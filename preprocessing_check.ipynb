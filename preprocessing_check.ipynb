{
 "cells": [
  {
   "cell_type": "code",
   "execution_count": 24,
   "metadata": {},
   "outputs": [],
   "source": [
    "import pathlib\n",
    "import os\n",
    "import json\n",
    "from tqdm import trange, tqdm\n",
    "import pandas as pd"
   ]
  },
  {
   "cell_type": "code",
   "execution_count": 35,
   "metadata": {},
   "outputs": [],
   "source": [
    "df = pd.read_csv('/mnt/NAS/datasets/LuCAS-Plus/LungSegmentation/LUNA16/candidates.csv')"
   ]
  },
  {
   "cell_type": "code",
   "execution_count": 39,
   "metadata": {},
   "outputs": [
    {
     "data": {
      "text/html": [
       "<div>\n",
       "<style scoped>\n",
       "    .dataframe tbody tr th:only-of-type {\n",
       "        vertical-align: middle;\n",
       "    }\n",
       "\n",
       "    .dataframe tbody tr th {\n",
       "        vertical-align: top;\n",
       "    }\n",
       "\n",
       "    .dataframe thead th {\n",
       "        text-align: right;\n",
       "    }\n",
       "</style>\n",
       "<table border=\"1\" class=\"dataframe\">\n",
       "  <thead>\n",
       "    <tr style=\"text-align: right;\">\n",
       "      <th></th>\n",
       "      <th>seriesuid</th>\n",
       "      <th>coordX</th>\n",
       "      <th>coordY</th>\n",
       "      <th>coordZ</th>\n",
       "      <th>class</th>\n",
       "    </tr>\n",
       "  </thead>\n",
       "  <tbody>\n",
       "    <tr>\n",
       "      <th>259316</th>\n",
       "      <td>1.3.6.1.4.1.14519.5.2.1.6279.6001.241717018262...</td>\n",
       "      <td>109.457119</td>\n",
       "      <td>36.832119</td>\n",
       "      <td>-226.585811</td>\n",
       "      <td>0</td>\n",
       "    </tr>\n",
       "    <tr>\n",
       "      <th>259317</th>\n",
       "      <td>1.3.6.1.4.1.14519.5.2.1.6279.6001.241717018262...</td>\n",
       "      <td>-55.721636</td>\n",
       "      <td>-12.932702</td>\n",
       "      <td>-185.411885</td>\n",
       "      <td>0</td>\n",
       "    </tr>\n",
       "    <tr>\n",
       "      <th>259318</th>\n",
       "      <td>1.3.6.1.4.1.14519.5.2.1.6279.6001.241717018262...</td>\n",
       "      <td>90.603620</td>\n",
       "      <td>45.880489</td>\n",
       "      <td>-209.032944</td>\n",
       "      <td>0</td>\n",
       "    </tr>\n",
       "    <tr>\n",
       "      <th>259319</th>\n",
       "      <td>1.3.6.1.4.1.14519.5.2.1.6279.6001.241717018262...</td>\n",
       "      <td>-47.488666</td>\n",
       "      <td>52.716185</td>\n",
       "      <td>-126.389926</td>\n",
       "      <td>0</td>\n",
       "    </tr>\n",
       "    <tr>\n",
       "      <th>259320</th>\n",
       "      <td>1.3.6.1.4.1.14519.5.2.1.6279.6001.241717018262...</td>\n",
       "      <td>57.122174</td>\n",
       "      <td>21.583733</td>\n",
       "      <td>-143.151923</td>\n",
       "      <td>0</td>\n",
       "    </tr>\n",
       "    <tr>\n",
       "      <th>...</th>\n",
       "      <td>...</td>\n",
       "      <td>...</td>\n",
       "      <td>...</td>\n",
       "      <td>...</td>\n",
       "      <td>...</td>\n",
       "    </tr>\n",
       "    <tr>\n",
       "      <th>259628</th>\n",
       "      <td>1.3.6.1.4.1.14519.5.2.1.6279.6001.241717018262...</td>\n",
       "      <td>39.216640</td>\n",
       "      <td>19.473770</td>\n",
       "      <td>-232.018578</td>\n",
       "      <td>0</td>\n",
       "    </tr>\n",
       "    <tr>\n",
       "      <th>259629</th>\n",
       "      <td>1.3.6.1.4.1.14519.5.2.1.6279.6001.241717018262...</td>\n",
       "      <td>40.915812</td>\n",
       "      <td>39.142886</td>\n",
       "      <td>-176.671181</td>\n",
       "      <td>0</td>\n",
       "    </tr>\n",
       "    <tr>\n",
       "      <th>259630</th>\n",
       "      <td>1.3.6.1.4.1.14519.5.2.1.6279.6001.241717018262...</td>\n",
       "      <td>38.902647</td>\n",
       "      <td>3.769070</td>\n",
       "      <td>-107.976673</td>\n",
       "      <td>0</td>\n",
       "    </tr>\n",
       "    <tr>\n",
       "      <th>259631</th>\n",
       "      <td>1.3.6.1.4.1.14519.5.2.1.6279.6001.241717018262...</td>\n",
       "      <td>-53.492719</td>\n",
       "      <td>20.083046</td>\n",
       "      <td>-151.633703</td>\n",
       "      <td>0</td>\n",
       "    </tr>\n",
       "    <tr>\n",
       "      <th>259632</th>\n",
       "      <td>1.3.6.1.4.1.14519.5.2.1.6279.6001.241717018262...</td>\n",
       "      <td>-50.553986</td>\n",
       "      <td>50.037173</td>\n",
       "      <td>-250.102153</td>\n",
       "      <td>0</td>\n",
       "    </tr>\n",
       "  </tbody>\n",
       "</table>\n",
       "<p>315 rows × 5 columns</p>\n",
       "</div>"
      ],
      "text/plain": [
       "                                                seriesuid      coordX  \\\n",
       "259316  1.3.6.1.4.1.14519.5.2.1.6279.6001.241717018262...  109.457119   \n",
       "259317  1.3.6.1.4.1.14519.5.2.1.6279.6001.241717018262...  -55.721636   \n",
       "259318  1.3.6.1.4.1.14519.5.2.1.6279.6001.241717018262...   90.603620   \n",
       "259319  1.3.6.1.4.1.14519.5.2.1.6279.6001.241717018262...  -47.488666   \n",
       "259320  1.3.6.1.4.1.14519.5.2.1.6279.6001.241717018262...   57.122174   \n",
       "...                                                   ...         ...   \n",
       "259628  1.3.6.1.4.1.14519.5.2.1.6279.6001.241717018262...   39.216640   \n",
       "259629  1.3.6.1.4.1.14519.5.2.1.6279.6001.241717018262...   40.915812   \n",
       "259630  1.3.6.1.4.1.14519.5.2.1.6279.6001.241717018262...   38.902647   \n",
       "259631  1.3.6.1.4.1.14519.5.2.1.6279.6001.241717018262...  -53.492719   \n",
       "259632  1.3.6.1.4.1.14519.5.2.1.6279.6001.241717018262...  -50.553986   \n",
       "\n",
       "           coordY      coordZ  class  \n",
       "259316  36.832119 -226.585811      0  \n",
       "259317 -12.932702 -185.411885      0  \n",
       "259318  45.880489 -209.032944      0  \n",
       "259319  52.716185 -126.389926      0  \n",
       "259320  21.583733 -143.151923      0  \n",
       "...           ...         ...    ...  \n",
       "259628  19.473770 -232.018578      0  \n",
       "259629  39.142886 -176.671181      0  \n",
       "259630   3.769070 -107.976673      0  \n",
       "259631  20.083046 -151.633703      0  \n",
       "259632  50.037173 -250.102153      0  \n",
       "\n",
       "[315 rows x 5 columns]"
      ]
     },
     "execution_count": 39,
     "metadata": {},
     "output_type": "execute_result"
    }
   ],
   "source": [
    "dff = df[df['seriesuid']=='1.3.6.1.4.1.14519.5.2.1.6279.6001.241717018262666382493757419144']\n",
    "dfff = dff[dff['class']==0]\n",
    "dfff"
   ]
  },
  {
   "cell_type": "code",
   "execution_count": 28,
   "metadata": {},
   "outputs": [
    {
     "name": "stderr",
     "output_type": "stream",
     "text": [
      "100%|██████████| 888/888 [00:08<00:00, 100.30it/s]"
     ]
    },
    {
     "name": "stdout",
     "output_type": "stream",
     "text": [
      "0\n"
     ]
    },
    {
     "name": "stderr",
     "output_type": "stream",
     "text": [
      "\n"
     ]
    }
   ],
   "source": [
    "### Series UID check\n",
    "\n",
    "series_uids = list(set(df['seriesuid']))\n",
    "loss_list = []\n",
    "for uid in tqdm(series_uids):\n",
    "    if not os.path.exists(os.path.join('/data/dk/LUNA16_crops/1', uid)) \\\n",
    "        and not os.path.exists(os.path.join('/data/dk/LUNA16_crops/0', uid)):\n",
    "        loss_list.append(uid)\n",
    "\n",
    "print(len(loss_list))\n",
    "with open('/data/dk/LUNA16_crops/remain_series_uids.json', 'w') as file:\n",
    "    json.dump(loss_list, file)\n",
    "\n"
   ]
  },
  {
   "cell_type": "code",
   "execution_count": 46,
   "metadata": {},
   "outputs": [
    {
     "name": "stderr",
     "output_type": "stream",
     "text": [
      "100%|██████████| 551065/551065 [02:52<00:00, 3196.02it/s]"
     ]
    },
    {
     "name": "stdout",
     "output_type": "stream",
     "text": [
      "missed - series 79, cnt 48460\n"
     ]
    },
    {
     "name": "stderr",
     "output_type": "stream",
     "text": [
      "\n"
     ]
    }
   ],
   "source": [
    "cnt = 0\n",
    "loss_list = []\n",
    "for i in trange(len(df)):\n",
    "    cur_df = df.iloc[i]\n",
    "    cur_path = os.path.join('/data/dk/LUNA16_crops', str(cur_df['class']), cur_df['seriesuid'],\n",
    "                            '_'.join([str(int(cur_df['coordZ'])), \n",
    "                                      str(int(cur_df['coordY'])), \n",
    "                                      str(int(cur_df['coordX']))])+'_1.0.npy')\n",
    "    if not os.path.exists(cur_path):\n",
    "        # print(cur_path)\n",
    "        if cur_df['seriesuid'] not in loss_list:\n",
    "            loss_list.append(cur_df['seriesuid'])\n",
    "        cnt += 1\n",
    "print(f\"missed - series {len(loss_list)}, cnt {cnt}\")\n",
    "with open('/data/dk/LUNA16_crops/remain_series_uids_2.json', 'w') as file:\n",
    "    json.dump(loss_list, file)"
   ]
  },
  {
   "cell_type": "code",
   "execution_count": 45,
   "metadata": {},
   "outputs": [
    {
     "ename": "JSONDecodeError",
     "evalue": "Expecting value: line 1 column 1 (char 0)",
     "output_type": "error",
     "traceback": [
      "\u001b[0;31m---------------------------------------------------------------------------\u001b[0m",
      "\u001b[0;31mJSONDecodeError\u001b[0m                           Traceback (most recent call last)",
      "Cell \u001b[0;32mIn[45], line 2\u001b[0m\n\u001b[1;32m      1\u001b[0m \u001b[39mwith\u001b[39;00m \u001b[39mopen\u001b[39m(\u001b[39m'\u001b[39m\u001b[39m/data/dk/LUNA16_crops/remain_series_uids_2.json\u001b[39m\u001b[39m'\u001b[39m, \u001b[39m'\u001b[39m\u001b[39mr\u001b[39m\u001b[39m'\u001b[39m) \u001b[39mas\u001b[39;00m file:\n\u001b[0;32m----> 2\u001b[0m     lss \u001b[39m=\u001b[39m json\u001b[39m.\u001b[39;49mload(file)\n\u001b[1;32m      3\u001b[0m \u001b[39mprint\u001b[39m(\u001b[39mlen\u001b[39m(lss))\n",
      "File \u001b[0;32m~/anaconda3/envs/juno/lib/python3.8/json/__init__.py:293\u001b[0m, in \u001b[0;36mload\u001b[0;34m(fp, cls, object_hook, parse_float, parse_int, parse_constant, object_pairs_hook, **kw)\u001b[0m\n\u001b[1;32m    274\u001b[0m \u001b[39mdef\u001b[39;00m \u001b[39mload\u001b[39m(fp, \u001b[39m*\u001b[39m, \u001b[39mcls\u001b[39m\u001b[39m=\u001b[39m\u001b[39mNone\u001b[39;00m, object_hook\u001b[39m=\u001b[39m\u001b[39mNone\u001b[39;00m, parse_float\u001b[39m=\u001b[39m\u001b[39mNone\u001b[39;00m,\n\u001b[1;32m    275\u001b[0m         parse_int\u001b[39m=\u001b[39m\u001b[39mNone\u001b[39;00m, parse_constant\u001b[39m=\u001b[39m\u001b[39mNone\u001b[39;00m, object_pairs_hook\u001b[39m=\u001b[39m\u001b[39mNone\u001b[39;00m, \u001b[39m*\u001b[39m\u001b[39m*\u001b[39mkw):\n\u001b[1;32m    276\u001b[0m     \u001b[39m\"\"\"Deserialize ``fp`` (a ``.read()``-supporting file-like object containing\u001b[39;00m\n\u001b[1;32m    277\u001b[0m \u001b[39m    a JSON document) to a Python object.\u001b[39;00m\n\u001b[1;32m    278\u001b[0m \n\u001b[0;32m   (...)\u001b[0m\n\u001b[1;32m    291\u001b[0m \u001b[39m    kwarg; otherwise ``JSONDecoder`` is used.\u001b[39;00m\n\u001b[1;32m    292\u001b[0m \u001b[39m    \"\"\"\u001b[39;00m\n\u001b[0;32m--> 293\u001b[0m     \u001b[39mreturn\u001b[39;00m loads(fp\u001b[39m.\u001b[39;49mread(),\n\u001b[1;32m    294\u001b[0m         \u001b[39mcls\u001b[39;49m\u001b[39m=\u001b[39;49m\u001b[39mcls\u001b[39;49m, object_hook\u001b[39m=\u001b[39;49mobject_hook,\n\u001b[1;32m    295\u001b[0m         parse_float\u001b[39m=\u001b[39;49mparse_float, parse_int\u001b[39m=\u001b[39;49mparse_int,\n\u001b[1;32m    296\u001b[0m         parse_constant\u001b[39m=\u001b[39;49mparse_constant, object_pairs_hook\u001b[39m=\u001b[39;49mobject_pairs_hook, \u001b[39m*\u001b[39;49m\u001b[39m*\u001b[39;49mkw)\n",
      "File \u001b[0;32m~/anaconda3/envs/juno/lib/python3.8/json/__init__.py:357\u001b[0m, in \u001b[0;36mloads\u001b[0;34m(s, cls, object_hook, parse_float, parse_int, parse_constant, object_pairs_hook, **kw)\u001b[0m\n\u001b[1;32m    352\u001b[0m     \u001b[39mdel\u001b[39;00m kw[\u001b[39m'\u001b[39m\u001b[39mencoding\u001b[39m\u001b[39m'\u001b[39m]\n\u001b[1;32m    354\u001b[0m \u001b[39mif\u001b[39;00m (\u001b[39mcls\u001b[39m \u001b[39mis\u001b[39;00m \u001b[39mNone\u001b[39;00m \u001b[39mand\u001b[39;00m object_hook \u001b[39mis\u001b[39;00m \u001b[39mNone\u001b[39;00m \u001b[39mand\u001b[39;00m\n\u001b[1;32m    355\u001b[0m         parse_int \u001b[39mis\u001b[39;00m \u001b[39mNone\u001b[39;00m \u001b[39mand\u001b[39;00m parse_float \u001b[39mis\u001b[39;00m \u001b[39mNone\u001b[39;00m \u001b[39mand\u001b[39;00m\n\u001b[1;32m    356\u001b[0m         parse_constant \u001b[39mis\u001b[39;00m \u001b[39mNone\u001b[39;00m \u001b[39mand\u001b[39;00m object_pairs_hook \u001b[39mis\u001b[39;00m \u001b[39mNone\u001b[39;00m \u001b[39mand\u001b[39;00m \u001b[39mnot\u001b[39;00m kw):\n\u001b[0;32m--> 357\u001b[0m     \u001b[39mreturn\u001b[39;00m _default_decoder\u001b[39m.\u001b[39;49mdecode(s)\n\u001b[1;32m    358\u001b[0m \u001b[39mif\u001b[39;00m \u001b[39mcls\u001b[39m \u001b[39mis\u001b[39;00m \u001b[39mNone\u001b[39;00m:\n\u001b[1;32m    359\u001b[0m     \u001b[39mcls\u001b[39m \u001b[39m=\u001b[39m JSONDecoder\n",
      "File \u001b[0;32m~/anaconda3/envs/juno/lib/python3.8/json/decoder.py:337\u001b[0m, in \u001b[0;36mJSONDecoder.decode\u001b[0;34m(self, s, _w)\u001b[0m\n\u001b[1;32m    332\u001b[0m \u001b[39mdef\u001b[39;00m \u001b[39mdecode\u001b[39m(\u001b[39mself\u001b[39m, s, _w\u001b[39m=\u001b[39mWHITESPACE\u001b[39m.\u001b[39mmatch):\n\u001b[1;32m    333\u001b[0m     \u001b[39m\"\"\"Return the Python representation of ``s`` (a ``str`` instance\u001b[39;00m\n\u001b[1;32m    334\u001b[0m \u001b[39m    containing a JSON document).\u001b[39;00m\n\u001b[1;32m    335\u001b[0m \n\u001b[1;32m    336\u001b[0m \u001b[39m    \"\"\"\u001b[39;00m\n\u001b[0;32m--> 337\u001b[0m     obj, end \u001b[39m=\u001b[39m \u001b[39mself\u001b[39;49m\u001b[39m.\u001b[39;49mraw_decode(s, idx\u001b[39m=\u001b[39;49m_w(s, \u001b[39m0\u001b[39;49m)\u001b[39m.\u001b[39;49mend())\n\u001b[1;32m    338\u001b[0m     end \u001b[39m=\u001b[39m _w(s, end)\u001b[39m.\u001b[39mend()\n\u001b[1;32m    339\u001b[0m     \u001b[39mif\u001b[39;00m end \u001b[39m!=\u001b[39m \u001b[39mlen\u001b[39m(s):\n",
      "File \u001b[0;32m~/anaconda3/envs/juno/lib/python3.8/json/decoder.py:355\u001b[0m, in \u001b[0;36mJSONDecoder.raw_decode\u001b[0;34m(self, s, idx)\u001b[0m\n\u001b[1;32m    353\u001b[0m     obj, end \u001b[39m=\u001b[39m \u001b[39mself\u001b[39m\u001b[39m.\u001b[39mscan_once(s, idx)\n\u001b[1;32m    354\u001b[0m \u001b[39mexcept\u001b[39;00m \u001b[39mStopIteration\u001b[39;00m \u001b[39mas\u001b[39;00m err:\n\u001b[0;32m--> 355\u001b[0m     \u001b[39mraise\u001b[39;00m JSONDecodeError(\u001b[39m\"\u001b[39m\u001b[39mExpecting value\u001b[39m\u001b[39m\"\u001b[39m, s, err\u001b[39m.\u001b[39mvalue) \u001b[39mfrom\u001b[39;00m \u001b[39mNone\u001b[39m\n\u001b[1;32m    356\u001b[0m \u001b[39mreturn\u001b[39;00m obj, end\n",
      "\u001b[0;31mJSONDecodeError\u001b[0m: Expecting value: line 1 column 1 (char 0)"
     ]
    }
   ],
   "source": [
    "with open('/data/dk/LUNA16_crops/remain_series_uids_2.json', 'r') as file:\n",
    "    lss = json.load(file)\n",
    "print(len(lss))"
   ]
  }
 ],
 "metadata": {
  "kernelspec": {
   "display_name": "juno",
   "language": "python",
   "name": "juno"
  },
  "language_info": {
   "codemirror_mode": {
    "name": "ipython",
    "version": 3
   },
   "file_extension": ".py",
   "mimetype": "text/x-python",
   "name": "python",
   "nbconvert_exporter": "python",
   "pygments_lexer": "ipython3",
   "version": "3.8.5"
  },
  "orig_nbformat": 4
 },
 "nbformat": 4,
 "nbformat_minor": 2
}
